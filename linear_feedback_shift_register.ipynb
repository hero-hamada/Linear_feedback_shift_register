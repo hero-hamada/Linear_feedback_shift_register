{
 "cells": [
  {
   "cell_type": "code",
   "execution_count": 16,
   "metadata": {},
   "outputs": [
    {
     "name": "stdout",
     "output_type": "stream",
     "text": [
      "Input ur primary seed 1100\n",
      "Input ur powers of x : 50\n",
      "Input ur primary seed 1100\n",
      "Input ur powers of x : 40\n",
      "1100\n",
      "0110\n",
      "0011\n",
      "1001\n",
      "1100\n",
      "0110\n",
      "0011\n",
      "1001\n",
      "1100\n",
      "0110\n",
      "0011\n",
      "Pseudo random bitstream :  [0, 1, 1, 0, 0, 1, 1, 0, 0, 1]\n"
     ]
    }
   ],
   "source": [
    "import numpy as np\n",
    "\n",
    "random_bitstream = [] # our result \n",
    "\n",
    "l = 0    # len of binary string like 01011\n",
    "max_power = 1    # max power of function for example 5\n",
    "\n",
    "while (l != max_power) :    # do while users inputs is incorrect\n",
    "    binary = input(\"Input ur primary seed \")\n",
    "    func = input(\"Input ur powers of x : \")\n",
    "    l = int(len(binary))\n",
    "    max_power = int(func[0])\n",
    "    \n",
    "seed = []    #binary matrix\n",
    "powers = []    #powers matrix\n",
    "\n",
    "# to fill them\n",
    "\n",
    "for num in binary : \n",
    "    seed.append(int(num))\n",
    "    \n",
    "for power in func :\n",
    "    powers.append(int(power))\n",
    "\n",
    "if powers[-1] == 0:     \n",
    "    powers.pop(-1)    \n",
    "\n",
    "new_binary = '' # to add list of seed to string\n",
    "\n",
    "iteration = 0\n",
    "print(binary)\n",
    "\n",
    "while iteration < 10:\n",
    "    \n",
    "    key = seed[powers[0] - 1] # if powers[8,7,5,3] we will get seed[6] \n",
    "\n",
    "    for i in range(len(powers) - 1) :\n",
    "            #print(i , ', key is: ', key, 'seed[', powers[i + 1], '] =', seed[powers[i + 1]])\n",
    "            if key == seed[powers[i + 1] - 1] : #if 0 and 0 or 0 and 1\n",
    "                key = 0\n",
    "            else : # if 0 and 1\n",
    "                key = 1\n",
    "\n",
    "    seed.insert(0, key) # shift all elements except index 0 \n",
    "    seed.pop(-1) # drop last index \n",
    "    \n",
    "    random_bitstream.append(seed[-1])\n",
    "    \n",
    "    #join seed list to string named new_binary\n",
    "    for num in seed :\n",
    "        new_binary += str(num) \n",
    "\n",
    "    print(new_binary)\n",
    "    new_binary = ''\n",
    "    \n",
    "    iteration += 1\n",
    "\n",
    "print('Pseudo random bitstream : ', random_bitstream)"
   ]
  },
  {
   "cell_type": "code",
   "execution_count": null,
   "metadata": {},
   "outputs": [],
   "source": []
  },
  {
   "cell_type": "code",
   "execution_count": null,
   "metadata": {},
   "outputs": [],
   "source": []
  }
 ],
 "metadata": {
  "kernelspec": {
   "display_name": "Python 3",
   "language": "python",
   "name": "python3"
  },
  "language_info": {
   "codemirror_mode": {
    "name": "ipython",
    "version": 3
   },
   "file_extension": ".py",
   "mimetype": "text/x-python",
   "name": "python",
   "nbconvert_exporter": "python",
   "pygments_lexer": "ipython3",
   "version": "3.7.3"
  }
 },
 "nbformat": 4,
 "nbformat_minor": 2
}
